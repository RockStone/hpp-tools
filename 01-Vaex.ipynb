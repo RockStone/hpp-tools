{
 "cells": [
  {
   "cell_type": "markdown",
   "metadata": {},
   "source": [
    "What is Vaex?[](https://docs.vaex.io/en/latest/index.html#What-is-Vaex? \"Permalink to this headline\")\n",
    "=====================================================================================================\n",
    "\n",
    "Vaex (originally VaEx: \"Visualization and Exploration\") is a Python library for lazy **Out-of-Core DataFrames** (similar to Pandas), to visualize and explore big tabular datasets. \n",
    "\n",
    "It can calculate *statistics* such as mean, sum, count, standard deviation etc, on an *N-dimensional grid* up to **a billion** (109109) objects/rows **per second**. \n",
    "\n",
    "Visualization is done using **histograms**, **density plots** and **3d volume rendering**, allowing interactive exploration of big data. \n",
    "\n",
    "Vaex uses memory mapping, a zero memory copy policy, and lazy computations for best performance (no memory wasted)."
   ]
  },
  {
   "cell_type": "code",
   "execution_count": null,
   "metadata": {
    "colab": {},
    "colab_type": "code",
    "id": "YczFxJov_vks"
   },
   "outputs": [],
   "source": [
    "import vaex\n",
    "df = vaex.open('data/beer_small.csv')\n",
    "df"
   ]
  },
  {
   "cell_type": "markdown",
   "metadata": {
    "colab_type": "text",
    "id": "szIhoOFdmkhJ"
   },
   "source": [
    "For a quick API demo, and also to show the parallelism between Vaex and Pandas, we'll run the Pandas \"Beer Exploration\" code and see some similarities and differences."
   ]
  },
  {
   "cell_type": "code",
   "execution_count": null,
   "metadata": {
    "colab": {},
    "colab_type": "code",
    "id": "PSgtgvWr_wDq"
   },
   "outputs": [],
   "source": [
    "len(df)"
   ]
  },
  {
   "cell_type": "markdown",
   "metadata": {
    "colab_type": "text",
    "id": "hEVuHpglmpua"
   },
   "source": [
    "Note: Vaex count doesn't return counts by column, since we don't necessarily want to \"commit\" to that work"
   ]
  },
  {
   "cell_type": "code",
   "execution_count": null,
   "metadata": {
    "colab": {},
    "colab_type": "code",
    "id": "aBuxeL_8_1EL"
   },
   "outputs": [],
   "source": [
    "df.count()"
   ]
  },
  {
   "cell_type": "markdown",
   "metadata": {},
   "source": [
    "However, we can get info for columns we're interested in"
   ]
  },
  {
   "cell_type": "code",
   "execution_count": null,
   "metadata": {},
   "outputs": [],
   "source": [
    "df.count('brewery_name')"
   ]
  },
  {
   "cell_type": "markdown",
   "metadata": {
    "colab_type": "text",
    "id": "XFeUtBwhmzAk"
   },
   "source": [
    "`count` also has a number of additional features aimed at working with larger data: https://docs.vaex.io/en/latest/api.html#vaex.dataframe.DataFrame.count ... in the source it just delegates to aggregation"
   ]
  },
  {
   "cell_type": "code",
   "execution_count": null,
   "metadata": {
    "colab": {},
    "colab_type": "code",
    "id": "7CtQ0MDDm6Z1"
   },
   "outputs": [],
   "source": [
    "df.count()"
   ]
  },
  {
   "cell_type": "markdown",
   "metadata": {
    "colab_type": "text",
    "id": "MpDFaemYm_uL"
   },
   "source": [
    "Let's get summary statistics for the numeric columns ... things like review score and ABV"
   ]
  },
  {
   "cell_type": "code",
   "execution_count": null,
   "metadata": {
    "colab": {},
    "colab_type": "code",
    "id": "HGrg_2hnm7bs"
   },
   "outputs": [],
   "source": [
    "df.describe()"
   ]
  },
  {
   "cell_type": "markdown",
   "metadata": {
    "colab_type": "text",
    "id": "7nC8dBxtnJy2"
   },
   "source": [
    "There are some really low-alcohol beers in there ... maybe even bogus data.\n",
    "\n",
    "Find all entries with ABV less than 1%"
   ]
  },
  {
   "cell_type": "code",
   "execution_count": null,
   "metadata": {
    "colab": {},
    "colab_type": "code",
    "id": "Z1CcqFn8nF-i"
   },
   "outputs": [],
   "source": [
    "low_abv = df[df.beer_abv < 1]\n",
    "\n",
    "low_abv"
   ]
  },
  {
   "cell_type": "markdown",
   "metadata": {
    "colab_type": "text",
    "id": "9V3yyGMtniaG"
   },
   "source": [
    "How many of these reviews are there?"
   ]
  },
  {
   "cell_type": "code",
   "execution_count": null,
   "metadata": {
    "colab": {},
    "colab_type": "code",
    "id": "fgD-x03CnTY8"
   },
   "outputs": [],
   "source": [
    "len(low_abv)"
   ]
  },
  {
   "cell_type": "markdown",
   "metadata": {
    "colab_type": "text",
    "id": "sUMswWNQnnWt"
   },
   "source": [
    "This includes multiple reviews for the same beer, so let's group by beer and count."
   ]
  },
  {
   "cell_type": "code",
   "execution_count": null,
   "metadata": {
    "colab": {},
    "colab_type": "code",
    "id": "lE07kGWRnlgD"
   },
   "outputs": [],
   "source": [
    "grouping = low_abv.groupby('beer_name')\n",
    "try:\n",
    "    grouping.size()\n",
    "except Exception as err:\n",
    "    print(err)"
   ]
  },
  {
   "cell_type": "code",
   "execution_count": null,
   "metadata": {},
   "outputs": [],
   "source": [
    "grouping.agg('count')"
   ]
  },
  {
   "cell_type": "markdown",
   "metadata": {
    "colab_type": "text",
    "id": "_GJw0y9ko2vb"
   },
   "source": [
    "How consistent are the O'Douls overall scores?"
   ]
  },
  {
   "cell_type": "code",
   "execution_count": null,
   "metadata": {
    "colab": {},
    "colab_type": "code",
    "id": "6IYu8cimnysJ"
   },
   "outputs": [],
   "source": [
    "scores = low_abv[low_abv.beer_name==\"O'Doul's\"]['review_overall']\n",
    "scores"
   ]
  },
  {
   "cell_type": "markdown",
   "metadata": {
    "colab_type": "text",
    "id": "Eav0-yydpN3p"
   },
   "source": [
    "Let's plot a histogram"
   ]
  },
  {
   "cell_type": "code",
   "execution_count": null,
   "metadata": {
    "colab": {},
    "colab_type": "code",
    "id": "zvPHQoVno_Mv"
   },
   "outputs": [],
   "source": [
    "try:\n",
    "    scores.hist()\n",
    "except Exception as err:\n",
    "    print(err)"
   ]
  },
  {
   "cell_type": "code",
   "execution_count": null,
   "metadata": {},
   "outputs": [],
   "source": [
    "low_abv[low_abv.beer_name==\"O'Doul's\"].plot1d('review_overall')"
   ]
  },
  {
   "cell_type": "markdown",
   "metadata": {},
   "source": [
    "Default behavior is to plot 99.7% (+/- 3σ) and omit outliers... we can adjust the limits:"
   ]
  },
  {
   "cell_type": "code",
   "execution_count": null,
   "metadata": {},
   "outputs": [],
   "source": [
    "low_abv[low_abv.beer_name==\"O'Doul's\"].plot1d('review_overall', limits=[0, 5])"
   ]
  },
  {
   "cell_type": "code",
   "execution_count": null,
   "metadata": {
    "colab": {},
    "colab_type": "code",
    "id": "Os6dqMgNpNAV"
   },
   "outputs": [],
   "source": [
    "scores.mean(), scores.std()"
   ]
  },
  {
   "cell_type": "markdown",
   "metadata": {
    "colab_type": "text",
    "id": "-_P9KB1ypl1y"
   },
   "source": [
    "In the full dataset, can we count reviews by brewery, and then by style within that brewery?"
   ]
  },
  {
   "cell_type": "code",
   "execution_count": null,
   "metadata": {
    "colab": {},
    "colab_type": "code",
    "id": "r0gVxucCpRxV"
   },
   "outputs": [],
   "source": [
    "df.groupby(['brewery_name', 'beer_style']).agg('count')"
   ]
  },
  {
   "cell_type": "markdown",
   "metadata": {
    "colab_type": "text",
    "id": "evW99OPdeGTi"
   },
   "source": [
    "### Now we'll try and build up a slightly more complex report\n",
    "\n",
    "Step 1: Find all rows corresponsing to reviews where the beer style starts with \"American\""
   ]
  },
  {
   "cell_type": "code",
   "execution_count": null,
   "metadata": {
    "colab": {},
    "colab_type": "code",
    "id": "KQ0I54mweRh_"
   },
   "outputs": [],
   "source": [
    "all_american = df[df.beer_style.str.startswith('American')]\n",
    "all_american"
   ]
  },
  {
   "cell_type": "markdown",
   "metadata": {
    "colab_type": "text",
    "id": "zTSS1H1AecYd"
   },
   "source": [
    "Next, make a dataframe with just the `beer_style` and `review_overall` fields for those rows."
   ]
  },
  {
   "cell_type": "code",
   "execution_count": null,
   "metadata": {
    "colab": {},
    "colab_type": "code",
    "id": "H6HDs5WJejtj"
   },
   "outputs": [],
   "source": [
    "narrowed = all_american[['beer_style', 'review_overall']]\n",
    "narrowed"
   ]
  },
  {
   "cell_type": "code",
   "execution_count": null,
   "metadata": {},
   "outputs": [],
   "source": [
    "narrowed[narrowed.beer_style=='American Malt Liquor'].plot1d('review_overall')"
   ]
  },
  {
   "cell_type": "code",
   "execution_count": null,
   "metadata": {},
   "outputs": [],
   "source": [
    "narrowed[narrowed.beer_style=='American IPA'].plot1d('review_overall')"
   ]
  }
 ],
 "metadata": {
  "accelerator": "GPU",
  "colab": {
   "collapsed_sections": [],
   "include_colab_link": true,
   "name": "01-RAPIDS-cuDF-cuML-cuGraph.ipynb",
   "provenance": []
  },
  "kernelspec": {
   "display_name": "Python 3",
   "language": "python",
   "name": "python3"
  },
  "language_info": {
   "codemirror_mode": {
    "name": "ipython",
    "version": 3
   },
   "file_extension": ".py",
   "mimetype": "text/x-python",
   "name": "python",
   "nbconvert_exporter": "python",
   "pygments_lexer": "ipython3",
   "version": "3.7.6"
  }
 },
 "nbformat": 4,
 "nbformat_minor": 4
}
