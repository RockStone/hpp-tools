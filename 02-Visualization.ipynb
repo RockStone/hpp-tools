{
 "cells": [
  {
   "cell_type": "markdown",
   "metadata": {},
   "source": [
    "# Visualization\n",
    "\n",
    "Visualizing large amounts of data presents challenges for both speed and fidelity. Several of the [PyViz](https://pyviz.org/index.html) libraries are specifically design for high perf and high volume, and have additional plugins to support interactivity via Bokeh.\n",
    "\n",
    "### Datashader\n",
    "\n",
    "__Datashader__ is an open-source library for analyzing and visualizing large datasets. \n",
    "* designed to \"rasterize\" or \"aggregate\" datasets into regular grids that can be viewed as images\n",
    "* can plot a billion points in a second or so on a 16GB laptop\n",
    "* scales up easily to out-of-core, distributed, or GPU processing for even larger datasets\n",
    "\n",
    "The computation-intensive steps in this process are written in Python but transparently compiled to machine code using Numba and flexibly distributed across CPU cores and processors using Dask or GPUs using CUDA, providing a highly optimized rendering pipeline that makes it practical to work with extremely large datasets even on standard hardware while exploiting distributed and GPU systems when available."
   ]
  },
  {
   "cell_type": "code",
   "execution_count": null,
   "metadata": {},
   "outputs": [],
   "source": [
    "import datashader as ds\n",
    "import pandas as pd\n",
    "from colorcet import fire\n",
    "from datashader import transfer_functions as tf\n",
    "\n",
    "df = pd.read_csv('data/nyc_taxi.csv', usecols=['dropoff_x', 'dropoff_y'])\n",
    "df.head()"
   ]
  },
  {
   "cell_type": "markdown",
   "metadata": {},
   "source": [
    "Here, we're visualizing a subset of the NYC taxi data which is not, itself, a large-data demo. But we can swap in the full dataset if we have the local memory/storage to do so."
   ]
  },
  {
   "cell_type": "code",
   "execution_count": null,
   "metadata": {},
   "outputs": [],
   "source": [
    "agg = ds.Canvas().points(df, 'dropoff_x', 'dropoff_y')\n",
    "tf.set_background(tf.shade(agg, cmap=fire),\"black\")"
   ]
  },
  {
   "cell_type": "markdown",
   "metadata": {},
   "source": [
    "We can create an interactive rendering which will recompute the dataview as we change the viewport ... but this requires a JupyterLab plugin compatible with JupyterLab 2.x ... for now, we'll look at the static version in Lab ..."
   ]
  },
  {
   "cell_type": "code",
   "execution_count": null,
   "metadata": {},
   "outputs": [],
   "source": [
    "import holoviews as hv\n",
    "from holoviews.element.tiles import EsriImagery\n",
    "from holoviews.operation.datashader import datashade\n",
    "hv.extension('bokeh')\n",
    "\n",
    "map_tiles  = EsriImagery().opts(alpha=0.5, width=900, height=480, bgcolor='black')\n",
    "points     = hv.Points(df, ['dropoff_x', 'dropoff_y'])\n",
    "taxi_trips = datashade(points, x_sampling=1, y_sampling=1, cmap=fire, width=900, height=480)\n",
    "\n",
    "map_tiles * taxi_trips"
   ]
  },
  {
   "cell_type": "markdown",
   "metadata": {},
   "source": [
    "And now reload the notebook in non-Lab mode (in a new tab, remove `lab` from the URL, add `tree`, and select this notebook)...\n",
    "\n",
    "Now pan/zoom, and note the recalculation."
   ]
  },
  {
   "cell_type": "markdown",
   "metadata": {},
   "source": [
    "### hvPlot\n",
    "\n",
    "Also noteworthy is __hvPlot__ https://hvplot.holoviz.org/index.html, which uses a plug-in/hook style integration to supplement the plotting capabilities of other SciPy projects, including Dask.\n",
    "\n",
    "Combined with Dask and Datashader (see examples at https://hvplot.holoviz.org/user_guide/Plotting.html to get started), we can assemble a high-performance data workbench with a user experience nearly identical to the basic, single-node Python tools."
   ]
  },
  {
   "cell_type": "code",
   "execution_count": null,
   "metadata": {},
   "outputs": [],
   "source": []
  }
 ],
 "metadata": {
  "kernelspec": {
   "display_name": "Python 3",
   "language": "python",
   "name": "python3"
  },
  "language_info": {
   "codemirror_mode": {
    "name": "ipython",
    "version": 3
   },
   "file_extension": ".py",
   "mimetype": "text/x-python",
   "name": "python",
   "nbconvert_exporter": "python",
   "pygments_lexer": "ipython3",
   "version": "3.7.6"
  }
 },
 "nbformat": 4,
 "nbformat_minor": 4
}
